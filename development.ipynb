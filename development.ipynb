{
 "cells": [
  {
   "cell_type": "markdown",
   "metadata": {},
   "source": [
    "# classificationbox\n",
    "https://machineboxio.com/docs/classificationbox\n",
    "\n",
    "classificationbox is [online learning](https://en.wikipedia.org/wiki/Online_machine_learning) (supervised learning), it works also with little data but it build the classifier function so it needs more data. for my bird monirtoring project my 2 classes would be bird/no_bird, and I just post the image data\n",
    "\n",
    "Classifiers can be made to help solve a wide range of example use cases, for example:\n",
    "* Learn about how your company is perceived by grouping tweets into positive and negative\n",
    "* Automatically group photos of cats and dogs\n",
    "* Group emails into spam and non-spam categories\n",
    "* Build a classifier to detect the language of a piece of text based on previously taught examples\n",
    "\n",
    "```\n",
    "sudo docker pull machinebox/classificationbox\n",
    "\n",
    "sudo docker run -p 8080:8080 -e \"MB_KEY=$MB_KEY\" machinebox/classificationbox\n",
    "```\n",
    "http://localhost:8080/"
   ]
  },
  {
   "cell_type": "code",
   "execution_count": 7,
   "metadata": {},
   "outputs": [],
   "source": [
    "import requests"
   ]
  },
  {
   "cell_type": "code",
   "execution_count": 32,
   "metadata": {},
   "outputs": [],
   "source": [
    "IP = 'localhost'\n",
    "PORT = '8080'\n",
    "CLASSIFIER = 'classificationbox'\n",
    "MODEL_ID = \"sentiment1\"\n",
    "\n",
    "MODEL_CREATION_URL = 'http://{}:{}/{}/models'.format(IP, PORT, CLASSIFIER)\n",
    "MODEL_TEACH_URL = 'http://{}:{}/{}/models/{}/teach'.format(IP, PORT, CLASSIFIER, MODEL_ID)\n",
    "MODEL_STATS_URL = 'http://{}:{}/{}/models/{}/stats'.format(IP, PORT, CLASSIFIER, MODEL_ID)"
   ]
  },
  {
   "cell_type": "markdown",
   "metadata": {},
   "source": [
    "First we create the model, which simply consists of providing some basic config and a list of classes"
   ]
  },
  {
   "cell_type": "code",
   "execution_count": 5,
   "metadata": {},
   "outputs": [],
   "source": [
    "model = {\"id\": MODEL_ID,\n",
    "         \"name\": \"sentimentModel\",\n",
    "         \"options\": {\n",
    "             \"ngrams\": 1,\n",
    "             \"skipgrams\": 1},\n",
    "         \"classes\": [\n",
    "             \"class1\",\n",
    "             \"class2\",\n",
    "             \"class3\"]}"
   ]
  },
  {
   "cell_type": "code",
   "execution_count": 35,
   "metadata": {},
   "outputs": [
    {
     "data": {
      "text/plain": [
       "{'id': 'sentiment1',\n",
       " 'name': 'sentimentModel',\n",
       " 'options': {'ngrams': 1, 'skipgrams': 1},\n",
       " 'classes': ['class1', 'class2', 'class3']}"
      ]
     },
     "execution_count": 35,
     "metadata": {},
     "output_type": "execute_result"
    }
   ],
   "source": [
    "model"
   ]
  },
  {
   "cell_type": "code",
   "execution_count": 20,
   "metadata": {},
   "outputs": [],
   "source": [
    "response = requests.post(MODEL_CREATION_URL, json=model) # Create the model"
   ]
  },
  {
   "cell_type": "markdown",
   "metadata": {},
   "source": [
    "Check the model was created by making a get"
   ]
  },
  {
   "cell_type": "code",
   "execution_count": 22,
   "metadata": {},
   "outputs": [
    {
     "data": {
      "text/plain": [
       "'{\\n\\t\"success\": true,\\n\\t\"models\": [\\n\\t\\t{\\n\\t\\t\\t\"id\": \"sentiment1\",\\n\\t\\t\\t\"name\": \"sentimentModel\"\\n\\t\\t}\\n\\t]\\n}'"
      ]
     },
     "execution_count": 22,
     "metadata": {},
     "output_type": "execute_result"
    }
   ],
   "source": [
    "requests.get(MODEL_CREATION_URL).text"
   ]
  },
  {
   "cell_type": "markdown",
   "metadata": {},
   "source": [
    "Post some data to the model, possible inputs (features) are:\n",
    "* number - An integer or floating point number (e.g. likes, age, size)\n",
    "* text - A blob of text that will broken down into tokens (e.g. body of an article)\n",
    "* keyword - A string value that will not be tokenized (e.g. cities, authors)\n",
    "* list - A comma separated list of keywords (e.g. visit history articleA,articleB,articleC,...)\n",
    "* image_url - The URL to an image (which will be downloaded by Classificationbox)\n",
    "* image_base64 - A string containing the base64 encoded image data"
   ]
  },
  {
   "cell_type": "code",
   "execution_count": 28,
   "metadata": {},
   "outputs": [],
   "source": [
    "data_to_teach = {\n",
    "    \"class\": \"class1\",\n",
    "    \"inputs\": [\n",
    "        {\"key\": \"user_age\", \"type\": \"number\", \"value\": \"25\"},\n",
    "        {\"key\": \"user_interests\", \"type\": \"list\", \"value\": \"music,cooking,ml\"},\n",
    "        {\"key\": \"user_location\", \"type\": \"keyword\", \"value\": \"London\"}\n",
    "    ]}"
   ]
  },
  {
   "cell_type": "code",
   "execution_count": 34,
   "metadata": {},
   "outputs": [
    {
     "data": {
      "text/plain": [
       "{'class': 'class1',\n",
       " 'inputs': [{'key': 'user_age', 'type': 'number', 'value': '25'},\n",
       "  {'key': 'user_interests', 'type': 'list', 'value': 'music,cooking,ml'},\n",
       "  {'key': 'user_location', 'type': 'keyword', 'value': 'London'}]}"
      ]
     },
     "execution_count": 34,
     "metadata": {},
     "output_type": "execute_result"
    }
   ],
   "source": [
    "data_to_teach"
   ]
  },
  {
   "cell_type": "code",
   "execution_count": 29,
   "metadata": {},
   "outputs": [],
   "source": [
    "response = requests.post(MODEL_TEACH_URL, json=data_to_teach) # Create the model"
   ]
  },
  {
   "cell_type": "code",
   "execution_count": 30,
   "metadata": {},
   "outputs": [
    {
     "data": {
      "text/plain": [
       "'{\\n\\t\"success\": true\\n}\\n'"
      ]
     },
     "execution_count": 30,
     "metadata": {},
     "output_type": "execute_result"
    }
   ],
   "source": [
    "response.text"
   ]
  },
  {
   "cell_type": "markdown",
   "metadata": {},
   "source": [
    "We would now add more data and make predictions. \n",
    "\n",
    "First lets check the model stats"
   ]
  },
  {
   "cell_type": "code",
   "execution_count": 33,
   "metadata": {},
   "outputs": [
    {
     "data": {
      "text/plain": [
       "'{\\n\\t\"success\": true,\\n\\t\"predictions\": 0,\\n\\t\"examples\": 1,\\n\\t\"classes\": [\\n\\t\\t{\\n\\t\\t\\t\"name\": \"class1\",\\n\\t\\t\\t\"examples\": 1\\n\\t\\t}\\n\\t]\\n}'"
      ]
     },
     "execution_count": 33,
     "metadata": {},
     "output_type": "execute_result"
    }
   ],
   "source": [
    "requests.get(MODEL_STATS_URL).text"
   ]
  },
  {
   "cell_type": "code",
   "execution_count": null,
   "metadata": {},
   "outputs": [],
   "source": []
  }
 ],
 "metadata": {
  "kernelspec": {
   "display_name": "Python 3",
   "language": "python",
   "name": "python3"
  },
  "language_info": {
   "codemirror_mode": {
    "name": "ipython",
    "version": 3
   },
   "file_extension": ".py",
   "mimetype": "text/x-python",
   "name": "python",
   "nbconvert_exporter": "python",
   "pygments_lexer": "ipython3",
   "version": "3.6.4"
  }
 },
 "nbformat": 4,
 "nbformat_minor": 2
}
